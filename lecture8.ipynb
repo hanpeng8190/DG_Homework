{
 "cells": [
  {
   "cell_type": "code",
   "execution_count": 5,
   "metadata": {},
   "outputs": [],
   "source": [
    "from torch import nn\n",
    "import torch"
   ]
  },
  {
   "cell_type": "code",
   "execution_count": 18,
   "metadata": {},
   "outputs": [],
   "source": [
    "class LeNet(nn.Module):\n",
    "    def __init__(self):\n",
    "        super().__init__()\n",
    "        self.conv1 = nn.Conv2d(1, 6, kernel_size=(5, 5), bias=True, padding=2)\n",
    "        self.relu1 = nn.ReLU()\n",
    "        self.pooling2 = nn.MaxPool2d(kernel_size=(2, 2), stride=2)\n",
    "        self.conv3 = nn.Conv2d(6, 16, kernel_size=(5, 5), bias=True)\n",
    "        self.relu3 = nn.ReLU()\n",
    "        self.pooling4 = nn.MaxPool2d(kernel_size=(2, 2), stride=2)\n",
    "        self.conv5 = nn.Conv2d(16, 120, kernel_size=(5, 5), bias=True)\n",
    "        \n",
    "        self.dense6 = nn.Linear(120, 84)\n",
    "        self.relu6 = nn.ReLU()\n",
    "        self.dense7 = nn.Linear(84, 10)\n",
    "        self.sig8 = nn.LogSoftmax(dim=-1)\n",
    "        self._init_params()\n",
    "        \n",
    "    def forward(self, _input):\n",
    "        x = self.conv1(_input)\n",
    "        x = self.relu1(x)\n",
    "        x = self.pooling2(x)\n",
    "        x = self.conv3(x)\n",
    "        x = self.relu3(x)\n",
    "        x = self.pooling4(x)\n",
    "        x = self.conv5(x)\n",
    "        \n",
    "        x = x.view(_input.size(0), -1)\n",
    "        \n",
    "        x = self.dense6(x)\n",
    "        x = self.relu6(x)\n",
    "        x = self.dense7(x)\n",
    "        x = self.sig8(x)\n",
    "        return x\n",
    "    \n",
    "    def _init_params(self):\n",
    "        for module in self.named_modules():\n",
    "            if isinstance(module, nn.Conv2d):\n",
    "                nn.init.kaiming_uniform_(module.weight, mode=\"fan_out\", nonlinearity=\"relu\")\n",
    "                if module.bias is not None:\n",
    "                    nn.init.constant_(module.bias, 0)\n",
    "            elif isinstance(module, nn.BatchNorm2d):\n",
    "                nn.init.constant_(module.weight, 1)\n",
    "                nn.init.constant_(module.bias, 0)\n",
    "        "
   ]
  },
  {
   "cell_type": "code",
   "execution_count": 19,
   "metadata": {},
   "outputs": [],
   "source": [
    "_input = torch.randn((3, 1, 28, 28))\n",
    "model = LeNet()\n",
    "output = model(_input)"
   ]
  },
  {
   "cell_type": "code",
   "execution_count": 20,
   "metadata": {},
   "outputs": [
    {
     "data": {
      "text/plain": [
       "tensor([[-2.2312, -2.3996, -2.1710, -2.2208, -2.3450, -2.4331, -2.4218, -2.3445,\n",
       "         -2.3107, -2.1910],\n",
       "        [-2.2362, -2.3797, -2.2014, -2.1526, -2.3577, -2.4393, -2.3988, -2.3505,\n",
       "         -2.3341, -2.2180],\n",
       "        [-2.2602, -2.4045, -2.1986, -2.1572, -2.3690, -2.4040, -2.4005, -2.3279,\n",
       "         -2.3203, -2.2219]], grad_fn=<LogSoftmaxBackward>)"
      ]
     },
     "execution_count": 20,
     "metadata": {},
     "output_type": "execute_result"
    }
   ],
   "source": [
    "output"
   ]
  },
  {
   "cell_type": "code",
   "execution_count": 17,
   "metadata": {},
   "outputs": [
    {
     "data": {
      "text/plain": [
       "torch.Size([3, 10])"
      ]
     },
     "execution_count": 17,
     "metadata": {},
     "output_type": "execute_result"
    }
   ],
   "source": [
    "output.shape"
   ]
  },
  {
   "cell_type": "code",
   "execution_count": null,
   "metadata": {},
   "outputs": [],
   "source": [
    "def _init_params(self):\n",
    "        for module in self.named_modules():\n",
    "            if isinstance(module, nn.Conv2d):\n",
    "                nn.init.kaiming_uniform_(module.weight, mode=\"fan_out\", nonlinearity=\"relu\")\n",
    "                if module.bias is not None:\n",
    "                    nn.init.constant_(module.bias, 0)\n",
    "            elif isinstance(module, nn.BatchNorm2d):\n",
    "                nn.init.constant_(module.weight, 1)\n",
    "                nn.init.constant_(module.bias, 0)"
   ]
  }
 ],
 "metadata": {
  "kernelspec": {
   "display_name": "worm",
   "language": "python",
   "name": "wyx"
  },
  "language_info": {
   "codemirror_mode": {
    "name": "ipython",
    "version": 3
   },
   "file_extension": ".py",
   "mimetype": "text/x-python",
   "name": "python",
   "nbconvert_exporter": "python",
   "pygments_lexer": "ipython3",
   "version": "3.7.5"
  }
 },
 "nbformat": 4,
 "nbformat_minor": 4
}
